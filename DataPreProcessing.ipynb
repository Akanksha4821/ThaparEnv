{
 "cells": [
  {
   "cell_type": "code",
   "execution_count": null,
   "metadata": {},
   "outputs": [],
   "source": []
  },
  {
   "cell_type": "code",
   "execution_count": 3,
   "metadata": {},
   "outputs": [
    {
     "name": "stdout",
     "output_type": "stream",
     "text": [
      "Collecting openpyxl\n",
      "  Downloading openpyxl-3.1.5-py2.py3-none-any.whl.metadata (2.5 kB)\n",
      "Collecting et-xmlfile (from openpyxl)\n",
      "  Downloading et_xmlfile-2.0.0-py3-none-any.whl.metadata (2.7 kB)\n",
      "Downloading openpyxl-3.1.5-py2.py3-none-any.whl (250 kB)\n",
      "Downloading et_xmlfile-2.0.0-py3-none-any.whl (18 kB)\n",
      "Installing collected packages: et-xmlfile, openpyxl\n",
      "Successfully installed et-xmlfile-2.0.0 openpyxl-3.1.5\n"
     ]
    },
    {
     "name": "stderr",
     "output_type": "stream",
     "text": [
      "\n",
      "[notice] A new release of pip is available: 24.3.1 -> 25.0.1\n",
      "[notice] To update, run: python.exe -m pip install --upgrade pip\n"
     ]
    }
   ],
   "source": [
    "!pip install openpyxl"
   ]
  },
  {
   "cell_type": "code",
   "execution_count": 1,
   "metadata": {},
   "outputs": [
    {
     "name": "stdout",
     "output_type": "stream",
     "text": [
      "Requirement already satisfied: pandas in c:\\users\\aryan kamboj\\onedrive\\documents\\mca202\\software enginnering project\\project_folder\\thaparenv\\lib\\site-packages (2.2.3)\n",
      "Requirement already satisfied: numpy>=1.26.0 in c:\\users\\aryan kamboj\\onedrive\\documents\\mca202\\software enginnering project\\project_folder\\thaparenv\\lib\\site-packages (from pandas) (2.2.4)\n",
      "Requirement already satisfied: python-dateutil>=2.8.2 in c:\\users\\aryan kamboj\\onedrive\\documents\\mca202\\software enginnering project\\project_folder\\thaparenv\\lib\\site-packages (from pandas) (2.9.0.post0)\n",
      "Requirement already satisfied: pytz>=2020.1 in c:\\users\\aryan kamboj\\onedrive\\documents\\mca202\\software enginnering project\\project_folder\\thaparenv\\lib\\site-packages (from pandas) (2025.1)\n",
      "Requirement already satisfied: tzdata>=2022.7 in c:\\users\\aryan kamboj\\onedrive\\documents\\mca202\\software enginnering project\\project_folder\\thaparenv\\lib\\site-packages (from pandas) (2025.2)\n",
      "Requirement already satisfied: six>=1.5 in c:\\users\\aryan kamboj\\onedrive\\documents\\mca202\\software enginnering project\\project_folder\\thaparenv\\lib\\site-packages (from python-dateutil>=2.8.2->pandas) (1.17.0)\n"
     ]
    },
    {
     "name": "stderr",
     "output_type": "stream",
     "text": [
      "\n",
      "[notice] A new release of pip is available: 24.3.1 -> 25.0.1\n",
      "[notice] To update, run: python.exe -m pip install --upgrade pip\n"
     ]
    },
    {
     "name": "stdout",
     "output_type": "stream",
     "text": [
      "Requirement already satisfied: numpy in c:\\users\\aryan kamboj\\onedrive\\documents\\mca202\\software enginnering project\\project_folder\\thaparenv\\lib\\site-packages (2.2.4)\n"
     ]
    },
    {
     "name": "stderr",
     "output_type": "stream",
     "text": [
      "\n",
      "[notice] A new release of pip is available: 24.3.1 -> 25.0.1\n",
      "[notice] To update, run: python.exe -m pip install --upgrade pip\n"
     ]
    }
   ],
   "source": [
    "!pip install pandas\n",
    "!pip install numpy"
   ]
  },
  {
   "cell_type": "code",
   "execution_count": 4,
   "metadata": {},
   "outputs": [],
   "source": [
    "import pandas as pd\n",
    "\n",
    "df = pd.read_excel(\"Raw_Data/Hostel_Info.xlsx\")"
   ]
  },
  {
   "cell_type": "code",
   "execution_count": 9,
   "metadata": {},
   "outputs": [
    {
     "data": {
      "text/plain": [
       "Index(['Hostel Name', 'Hostel Previous Name', 'Type of Hostel', 'Mess Fees',\n",
       "       'Capacity of Hostel', 'Warden Name', 'Assistant Warden',\n",
       "       'Contact of Warden', 'Email of Warden', 'Day Caretaker',\n",
       "       'Day Caretaker Number', 'Night Caretaker Name',\n",
       "       'Night Caretaker Number', 'Email ID Caretaker',\n",
       "       'Reception Contact Number', 'AC Room Availability', '4 sharing ',\n",
       "       '3 Sharing', '2 share Rooms', 'Single Rooms Availability', 'Wi-Fi',\n",
       "       'Lift', 'Number of Floors(including ground floor)', 'Laundry Service',\n",
       "       'Late Night Mess', 'Late Entry Timings'],\n",
       "      dtype='object')"
      ]
     },
     "execution_count": 9,
     "metadata": {},
     "output_type": "execute_result"
    }
   ],
   "source": [
    "df.columns"
   ]
  },
  {
   "cell_type": "code",
   "execution_count": 15,
   "metadata": {},
   "outputs": [],
   "source": [
    "with open(\"Structured_Data/Hostel_info.txt\", \"w\", encoding=\"utf-8\") as f:\n",
    "    for _, row in df.iterrows():\n",
    "        f.write(f\"### {row['Hostel Name']} (Previously: {row['Hostel Previous Name']})\\n\")\n",
    "        f.write(f\"- Type: {row['Type of Hostel']}\\n\")\n",
    "        f.write(f\"- Capacity: {row['Capacity of Hostel']}\\n\")\n",
    "        f.write(f\"- AC Room Availability: {row['AC Room Availability']}\\n\")\n",
    "        f.write(f\"- Mess Fees: {row['Mess Fees']}\\n\")\n",
    "        f.write(f\"- Warden: {row['Warden Name']} (Contact: {row['Contact of Warden']}, Email: {row['Email of Warden']})\\n\")\n",
    "        f.write(f\"- Assistant Warden: {row['Assistant Warden']}\\n\")\n",
    "        f.write(f\"- Day Caretaker: {row['Day Caretaker']} (Phone: {row['Day Caretaker Number']})\\n\")\n",
    "        f.write(f\"- Night Caretaker: {row['Night Caretaker Name']} (Phone: {row['Night Caretaker Number']})\\n\")\n",
    "        f.write(f\"- Email ID Caretaker: {row['Email ID Caretaker']}\\n\")\n",
    "        f.write(f\"- Reception Contact Number: {row['Reception Contact Number']}\\n\")\n",
    "        f.write(f\"- Room Sharing:\\n\")\n",
    "        f.write(f\"  - 4 Sharing: {row['4 sharing ']}\\n\")\n",
    "        f.write(f\"  - 3 Sharing: {row['3 Sharing']}\\n\")\n",
    "        f.write(f\"  - 2 Sharing: {row['2 share Rooms']}\\n\")\n",
    "        f.write(f\"  - Single Room Availability: {row['Single Rooms Availability']}\\n\")\n",
    "        f.write(f\"- Wi-Fi: {row['Wi-Fi']}\\n\")\n",
    "        f.write(f\"- Lift: {row['Lift']}\\n\")\n",
    "        f.write(f\"- Number of Floors (including ground floor): {row['Number of Floors(including ground floor)']}\\n\")\n",
    "        f.write(f\"- Laundry Service: {row['Laundry Service']}\\n\")\n",
    "        f.write(f\"- Late Night Mess: {row['Late Night Mess']}\\n\")\n",
    "        f.write(f\"- Late Entry Timings: {row['Late Entry Timings']}\\n\")\n",
    "        f.write(\"\\n\\n\")\n"
   ]
  },
  {
   "cell_type": "code",
   "execution_count": 16,
   "metadata": {},
   "outputs": [],
   "source": [
    "ddf = pd.read_csv(\"Raw_Data/HostelFees.csv\")"
   ]
  },
  {
   "cell_type": "code",
   "execution_count": 18,
   "metadata": {},
   "outputs": [],
   "source": [
    "columns_to_include = [\n",
    "    '1Sharing-Non-AC', '1Sharing-AC',\n",
    "    '2Sharing-Non-AC', '2Sharing-AC',\n",
    "    '3Sharing-Non-AC', '3Sharing-AC',\n",
    "    '4Sharing-Non-AC', '4Sharing-AC'\n",
    "]\n",
    "with open(\"Structured_Data/Hostel_fees.txt\", \"w\", encoding=\"utf-8\") as f:\n",
    " \n",
    "    for _, row in ddf.iterrows():\n",
    "        f.write(f\"### {row['Hostel Names']}\\n\")\n",
    "        f.write(\"- Room Types and Washroom Details:\\n\")\n",
    "        f.write(f\"  - 1 Sharing:\\n\")\n",
    "        f.write(f\"    - Non-AC: {row['1Sharing-Non-AC']}\\n\")\n",
    "        f.write(f\"    - AC: {row['1Sharing-AC']}\\n\")\n",
    "        f.write(f\"  - 2 Sharing:\\n\")\n",
    "        f.write(f\"    - Non-AC: {row['2Sharing-Non-AC']}\\n\")\n",
    "        f.write(f\"    - AC: {row['2Sharing-AC']}\\n\")\n",
    "        f.write(f\"  - 3 Sharing:\\n\")\n",
    "        f.write(f\"    - Non-AC: {row['3Sharing-Non-AC']}\\n\")\n",
    "        f.write(f\"    - AC: {row['3Sharing-AC']}\\n\")\n",
    "        f.write(f\"  - 4 Sharing:\\n\")\n",
    "        f.write(f\"    - Non-AC: {row['4Sharing-Non-AC']}\\n\")\n",
    "        f.write(f\"    - AC: {row['4Sharing-AC']}\\n\")\n",
    "        f.write(\"\\n\")"
   ]
  },
  {
   "cell_type": "code",
   "execution_count": 19,
   "metadata": {},
   "outputs": [],
   "source": [
    "clubs = pd.read_excel(\"Raw_Data/clubs_thapar.xlsx\")"
   ]
  },
  {
   "cell_type": "code",
   "execution_count": 20,
   "metadata": {},
   "outputs": [
    {
     "data": {
      "text/html": [
       "<div>\n",
       "<style scoped>\n",
       "    .dataframe tbody tr th:only-of-type {\n",
       "        vertical-align: middle;\n",
       "    }\n",
       "\n",
       "    .dataframe tbody tr th {\n",
       "        vertical-align: top;\n",
       "    }\n",
       "\n",
       "    .dataframe thead th {\n",
       "        text-align: right;\n",
       "    }\n",
       "</style>\n",
       "<table border=\"1\" class=\"dataframe\">\n",
       "  <thead>\n",
       "    <tr style=\"text-align: right;\">\n",
       "      <th></th>\n",
       "      <th>S.No.</th>\n",
       "      <th>Club Name</th>\n",
       "      <th>Objective</th>\n",
       "      <th>Faculty Advisor(s)</th>\n",
       "      <th>Contact Email</th>\n",
       "    </tr>\n",
       "  </thead>\n",
       "  <tbody>\n",
       "    <tr>\n",
       "      <th>0</th>\n",
       "      <td>1</td>\n",
       "      <td>Adventure Club</td>\n",
       "      <td>A forum for adventure enthusiasts, trekkers, c...</td>\n",
       "      <td>Dr. Gagandeep Kaur, Dr. Anil Arora</td>\n",
       "      <td>adventureclub@thapar.edu</td>\n",
       "    </tr>\n",
       "    <tr>\n",
       "      <th>1</th>\n",
       "      <td>2</td>\n",
       "      <td>Dance Club ‘NOX’</td>\n",
       "      <td>Provides a platform for students to enhance th...</td>\n",
       "      <td>Dr. Meenu Rani, Dr. Sangita Roy</td>\n",
       "      <td>nox@thapar.edu</td>\n",
       "    </tr>\n",
       "    <tr>\n",
       "      <th>2</th>\n",
       "      <td>3</td>\n",
       "      <td>Developer Student Club</td>\n",
       "      <td>Offers hands-on workshops, in-person training,...</td>\n",
       "      <td>Dr. Anil Singh, Dr. Ashima Singh</td>\n",
       "      <td>google.dsctiet@thapar.edu</td>\n",
       "    </tr>\n",
       "    <tr>\n",
       "      <th>3</th>\n",
       "      <td>4</td>\n",
       "      <td>Echoes Club</td>\n",
       "      <td>Publishes periodicals covering cultural, techn...</td>\n",
       "      <td>Dr. Jaskaran Singh, Dr. Sonam Dullat</td>\n",
       "      <td>echoes@thapar.edu</td>\n",
       "    </tr>\n",
       "    <tr>\n",
       "      <th>4</th>\n",
       "      <td>5</td>\n",
       "      <td>Economics Club (ECON CLUB)</td>\n",
       "      <td>Identifies and discusses economic, social, and...</td>\n",
       "      <td>Dr. Shilpi Tyagi, Dr. S.C. Bose</td>\n",
       "      <td>econclub@thapar.edu</td>\n",
       "    </tr>\n",
       "  </tbody>\n",
       "</table>\n",
       "</div>"
      ],
      "text/plain": [
       "   S.No.                   Club Name  \\\n",
       "0      1              Adventure Club   \n",
       "1      2            Dance Club ‘NOX’   \n",
       "2      3      Developer Student Club   \n",
       "3      4                 Echoes Club   \n",
       "4      5  Economics Club (ECON CLUB)   \n",
       "\n",
       "                                           Objective  \\\n",
       "0  A forum for adventure enthusiasts, trekkers, c...   \n",
       "1  Provides a platform for students to enhance th...   \n",
       "2  Offers hands-on workshops, in-person training,...   \n",
       "3  Publishes periodicals covering cultural, techn...   \n",
       "4  Identifies and discusses economic, social, and...   \n",
       "\n",
       "                     Faculty Advisor(s)              Contact Email  \n",
       "0    Dr. Gagandeep Kaur, Dr. Anil Arora   adventureclub@thapar.edu  \n",
       "1       Dr. Meenu Rani, Dr. Sangita Roy             nox@thapar.edu  \n",
       "2      Dr. Anil Singh, Dr. Ashima Singh  google.dsctiet@thapar.edu  \n",
       "3  Dr. Jaskaran Singh, Dr. Sonam Dullat          echoes@thapar.edu  \n",
       "4       Dr. Shilpi Tyagi, Dr. S.C. Bose        econclub@thapar.edu  "
      ]
     },
     "execution_count": 20,
     "metadata": {},
     "output_type": "execute_result"
    }
   ],
   "source": [
    "clubs.head()"
   ]
  },
  {
   "cell_type": "code",
   "execution_count": 23,
   "metadata": {},
   "outputs": [],
   "source": [
    "with open(\"Structured_Data/clubs_thapar.txt\",\"w\") as f:\n",
    "    for _,row in clubs.iterrows():\n",
    "        f.write(f'###{row['Club Name']}\\n')\n",
    "        f.write(f\"- Objective:{row['Objective']}\\n\")\n",
    "        f.write(f\"- Faculty Advisors:{row['Faculty Advisor(s)']}\\n\")\n",
    "        f.write(f\"- Contact Email:{row['Contact Email']}\\n\")\n",
    "        f.write(\"\\n\\n\")"
   ]
  },
  {
   "cell_type": "code",
   "execution_count": 24,
   "metadata": {},
   "outputs": [],
   "source": [
    "PG_Course_Fee= pd.read_excel(\"Raw_Data/PG_Courses_Fees.xlsx\")"
   ]
  },
  {
   "cell_type": "code",
   "execution_count": 37,
   "metadata": {},
   "outputs": [
    {
     "data": {
      "text/html": [
       "<div>\n",
       "<style scoped>\n",
       "    .dataframe tbody tr th:only-of-type {\n",
       "        vertical-align: middle;\n",
       "    }\n",
       "\n",
       "    .dataframe tbody tr th {\n",
       "        vertical-align: top;\n",
       "    }\n",
       "\n",
       "    .dataframe thead th {\n",
       "        text-align: right;\n",
       "    }\n",
       "</style>\n",
       "<table border=\"1\" class=\"dataframe\">\n",
       "  <thead>\n",
       "    <tr style=\"text-align: right;\">\n",
       "      <th></th>\n",
       "      <th>Programme</th>\n",
       "      <th>No. of Semesters (Normal Duration)</th>\n",
       "      <th>Total Programme Fee in Rs.</th>\n",
       "      <th>Amount to be paid each semester in Rs. (Equal Installment)</th>\n",
       "      <th>Tuition Fee in each semester</th>\n",
       "      <th>Development Fee in each semester</th>\n",
       "      <th>Other Charges in each semester</th>\n",
       "    </tr>\n",
       "  </thead>\n",
       "  <tbody>\n",
       "    <tr>\n",
       "      <th>0</th>\n",
       "      <td>MCA</td>\n",
       "      <td>4</td>\n",
       "      <td>410800.0</td>\n",
       "      <td>102700.0</td>\n",
       "      <td>63700.0</td>\n",
       "      <td>28000.0</td>\n",
       "      <td>11000.0</td>\n",
       "    </tr>\n",
       "    <tr>\n",
       "      <th>1</th>\n",
       "      <td>MSc</td>\n",
       "      <td>4</td>\n",
       "      <td>202400.0</td>\n",
       "      <td>50600.0</td>\n",
       "      <td>31600.0</td>\n",
       "      <td>8000.0</td>\n",
       "      <td>11000.0</td>\n",
       "    </tr>\n",
       "    <tr>\n",
       "      <th>2</th>\n",
       "      <td>ME/MTech - CSED, ECED, MED, EIED</td>\n",
       "      <td>4</td>\n",
       "      <td>398800.0</td>\n",
       "      <td>99700.0</td>\n",
       "      <td>70700.0</td>\n",
       "      <td>18000.0</td>\n",
       "      <td>11000.0</td>\n",
       "    </tr>\n",
       "    <tr>\n",
       "      <th>3</th>\n",
       "      <td>ME/MTech - Others</td>\n",
       "      <td>4</td>\n",
       "      <td>358000.0</td>\n",
       "      <td>89500.0</td>\n",
       "      <td>60500.0</td>\n",
       "      <td>18000.0</td>\n",
       "      <td>11000.0</td>\n",
       "    </tr>\n",
       "    <tr>\n",
       "      <th>4</th>\n",
       "      <td>MA (2 Years)</td>\n",
       "      <td>4</td>\n",
       "      <td>202400.0</td>\n",
       "      <td>50600.0</td>\n",
       "      <td>31600.0</td>\n",
       "      <td>8000.0</td>\n",
       "      <td>11000.0</td>\n",
       "    </tr>\n",
       "  </tbody>\n",
       "</table>\n",
       "</div>"
      ],
      "text/plain": [
       "                          Programme No. of Semesters (Normal Duration)  \\\n",
       "0                               MCA                                  4   \n",
       "1                               MSc                                  4   \n",
       "2  ME/MTech - CSED, ECED, MED, EIED                                  4   \n",
       "3                 ME/MTech - Others                                  4   \n",
       "4                      MA (2 Years)                                  4   \n",
       "\n",
       "   Total Programme Fee in Rs.  \\\n",
       "0                    410800.0   \n",
       "1                    202400.0   \n",
       "2                    398800.0   \n",
       "3                    358000.0   \n",
       "4                    202400.0   \n",
       "\n",
       "   Amount to be paid each semester in Rs. (Equal Installment)  \\\n",
       "0                                           102700.0            \n",
       "1                                            50600.0            \n",
       "2                                            99700.0            \n",
       "3                                            89500.0            \n",
       "4                                            50600.0            \n",
       "\n",
       "   Tuition Fee in each semester  Development Fee in each semester  \\\n",
       "0                       63700.0                           28000.0   \n",
       "1                       31600.0                            8000.0   \n",
       "2                       70700.0                           18000.0   \n",
       "3                       60500.0                           18000.0   \n",
       "4                       31600.0                            8000.0   \n",
       "\n",
       "    Other Charges in each semester   \n",
       "0                           11000.0  \n",
       "1                           11000.0  \n",
       "2                           11000.0  \n",
       "3                           11000.0  \n",
       "4                           11000.0  "
      ]
     },
     "execution_count": 37,
     "metadata": {},
     "output_type": "execute_result"
    }
   ],
   "source": [
    "PG_Course_Fee.head()"
   ]
  },
  {
   "cell_type": "code",
   "execution_count": 34,
   "metadata": {},
   "outputs": [],
   "source": [
    "with open(\"Structured_Data/PG_Course_Fee.txt\",\"w\") as f:\n",
    "    for _,row in PG_Course_Fee.iterrows():\n",
    "        f.write(f\"### {row['Programme']}\\n\")\n",
    "        f.write(f\"-Number of Semester: {row['No. of Semesters (Normal Duration)']}\\n\")\n",
    "        f.write(f\"-Total Fees: {row['Total Programme Fee in Rs.']}\\n\")\n",
    "        f.write(f\"-Amount to be paid each semester in Rs. (Equal Installment): {row['Amount to be paid each semester in Rs. (Equal Installment)']}\\n\")\n",
    "        f.write(f\"-Tuition Fee in each semester: {row['Tuition Fee in each semester']}\\n\")\n",
    "        f.write(f\"-Development Fee in each semester: {row['Development Fee in each semester']}\\n\")\n",
    "        f.write(f\"-Other Charges in each semester: {row[' Other Charges in each semester ']}\\n\")\n",
    "        f.write(\"\\n\\n\")\n",
    "        "
   ]
  },
  {
   "cell_type": "code",
   "execution_count": 39,
   "metadata": {},
   "outputs": [],
   "source": [
    "scholarship = pd.read_excel(\"Raw_Data/scholarships.xlsx\")"
   ]
  },
  {
   "cell_type": "code",
   "execution_count": 41,
   "metadata": {},
   "outputs": [
    {
     "data": {
      "text/html": [
       "<div>\n",
       "<style scoped>\n",
       "    .dataframe tbody tr th:only-of-type {\n",
       "        vertical-align: middle;\n",
       "    }\n",
       "\n",
       "    .dataframe tbody tr th {\n",
       "        vertical-align: top;\n",
       "    }\n",
       "\n",
       "    .dataframe thead th {\n",
       "        text-align: right;\n",
       "    }\n",
       "</style>\n",
       "<table border=\"1\" class=\"dataframe\">\n",
       "  <thead>\n",
       "    <tr style=\"text-align: right;\">\n",
       "      <th></th>\n",
       "      <th>Program</th>\n",
       "      <th>Scholarship Type</th>\n",
       "      <th>Eligibility</th>\n",
       "      <th>Amount</th>\n",
       "      <th>Continuation Criteria</th>\n",
       "      <th>Special Notes</th>\n",
       "    </tr>\n",
       "  </thead>\n",
       "  <tbody>\n",
       "    <tr>\n",
       "      <th>0</th>\n",
       "      <td>ME/MTech</td>\n",
       "      <td>AICTE Scholarship</td>\n",
       "      <td>GATE required</td>\n",
       "      <td>Based on AICTE approval</td>\n",
       "      <td>NaN</td>\n",
       "      <td>Only for AICTE-approved seats</td>\n",
       "    </tr>\n",
       "    <tr>\n",
       "      <th>1</th>\n",
       "      <td>ME/MTech</td>\n",
       "      <td>TIET (with AICTE)</td>\n",
       "      <td>GATE required, AICTE-funded</td>\n",
       "      <td>₹5000/month</td>\n",
       "      <td>NaN</td>\n",
       "      <td>Additional to AICTE</td>\n",
       "    </tr>\n",
       "    <tr>\n",
       "      <th>2</th>\n",
       "      <td>ME/MTech</td>\n",
       "      <td>TIET (without AICTE)</td>\n",
       "      <td>GATE required, no AICTE funds</td>\n",
       "      <td>₹12,400/month</td>\n",
       "      <td>NaN</td>\n",
       "      <td>NaN</td>\n",
       "    </tr>\n",
       "    <tr>\n",
       "      <th>3</th>\n",
       "      <td>ME/MTech</td>\n",
       "      <td>Non-GATE Scholarship</td>\n",
       "      <td>70% marks (65% SC/ST)</td>\n",
       "      <td>₹10,000/month (for 10 months)</td>\n",
       "      <td>CGPA ≥ 8.00, No backlog</td>\n",
       "      <td>NaN</td>\n",
       "    </tr>\n",
       "    <tr>\n",
       "      <th>4</th>\n",
       "      <td>MSc</td>\n",
       "      <td>Merit Scholarship (Full)</td>\n",
       "      <td>AGPA ≥ 8.00, No backlog</td>\n",
       "      <td>Full tuition fee waiver</td>\n",
       "      <td>Maintain AGPA ≥ 8.00</td>\n",
       "      <td>Min 5 students per discipline</td>\n",
       "    </tr>\n",
       "    <tr>\n",
       "      <th>5</th>\n",
       "      <td>MSc</td>\n",
       "      <td>Merit Scholarship (Half)</td>\n",
       "      <td>AGPA ≥ 8.00, No backlog</td>\n",
       "      <td>50% tuition fee waiver</td>\n",
       "      <td>Maintain AGPA ≥ 8.00</td>\n",
       "      <td>NaN</td>\n",
       "    </tr>\n",
       "    <tr>\n",
       "      <th>6</th>\n",
       "      <td>MSc</td>\n",
       "      <td>Merit Scholarship (Quarter)</td>\n",
       "      <td>AGPA ≥ 8.00, No backlog</td>\n",
       "      <td>25% tuition fee waiver</td>\n",
       "      <td>Maintain AGPA ≥ 8.00</td>\n",
       "      <td>NaN</td>\n",
       "    </tr>\n",
       "    <tr>\n",
       "      <th>7</th>\n",
       "      <td>MCA</td>\n",
       "      <td>Merit Scholarship</td>\n",
       "      <td>AGPA ≥ 8.00, No backlog</td>\n",
       "      <td>₹40,000 per year</td>\n",
       "      <td>Maintain AGPA ≥ 8.00</td>\n",
       "      <td>10% of admitted students</td>\n",
       "    </tr>\n",
       "  </tbody>\n",
       "</table>\n",
       "</div>"
      ],
      "text/plain": [
       "    Program             Scholarship Type                    Eligibility  \\\n",
       "0  ME/MTech            AICTE Scholarship                  GATE required   \n",
       "1  ME/MTech            TIET (with AICTE)    GATE required, AICTE-funded   \n",
       "2  ME/MTech         TIET (without AICTE)  GATE required, no AICTE funds   \n",
       "3  ME/MTech         Non-GATE Scholarship          70% marks (65% SC/ST)   \n",
       "4       MSc     Merit Scholarship (Full)        AGPA ≥ 8.00, No backlog   \n",
       "5       MSc     Merit Scholarship (Half)        AGPA ≥ 8.00, No backlog   \n",
       "6       MSc  Merit Scholarship (Quarter)        AGPA ≥ 8.00, No backlog   \n",
       "7       MCA            Merit Scholarship        AGPA ≥ 8.00, No backlog   \n",
       "\n",
       "                          Amount    Continuation Criteria  \\\n",
       "0        Based on AICTE approval                      NaN   \n",
       "1                    ₹5000/month                      NaN   \n",
       "2                  ₹12,400/month                      NaN   \n",
       "3  ₹10,000/month (for 10 months)  CGPA ≥ 8.00, No backlog   \n",
       "4        Full tuition fee waiver     Maintain AGPA ≥ 8.00   \n",
       "5         50% tuition fee waiver     Maintain AGPA ≥ 8.00   \n",
       "6         25% tuition fee waiver     Maintain AGPA ≥ 8.00   \n",
       "7               ₹40,000 per year     Maintain AGPA ≥ 8.00   \n",
       "\n",
       "                   Special Notes  \n",
       "0  Only for AICTE-approved seats  \n",
       "1            Additional to AICTE  \n",
       "2                            NaN  \n",
       "3                            NaN  \n",
       "4  Min 5 students per discipline  \n",
       "5                            NaN  \n",
       "6                            NaN  \n",
       "7       10% of admitted students  "
      ]
     },
     "execution_count": 41,
     "metadata": {},
     "output_type": "execute_result"
    }
   ],
   "source": [
    "scholarship"
   ]
  },
  {
   "cell_type": "code",
   "execution_count": 48,
   "metadata": {},
   "outputs": [],
   "source": [
    "with open(\"Structured_Data/scholarships.txt\",\"w\",encoding='utf-8') as f:\n",
    "    for _ , row in scholarship.iterrows():\n",
    "        f.write(f\"### {row['Program']}\\n\")\n",
    "        f.write(f\"-Scholarship Type: {row['Scholarship Type']}\\n\")\n",
    "        f.write(f\"-Eligibility: {row['Eligibility']}\\n\")\n",
    "        f.write(f\"-Amount of Scholarship: {row['Amount']}\\n\")\n",
    "        f.write(f\"-Continuation Criteria: {row['Continuation Criteria']}\\n\")\n",
    "        f.write(f\"-Special Notes: {row['Special Notes']}\\n\")\n",
    "        f.write(\"\\n\\n\")\n",
    "        \n",
    "        "
   ]
  },
  {
   "cell_type": "code",
   "execution_count": 49,
   "metadata": {},
   "outputs": [],
   "source": [
    "socities = pd.read_excel(\"Raw_Data/Societies_Thapar.xlsx\")"
   ]
  },
  {
   "cell_type": "code",
   "execution_count": 53,
   "metadata": {},
   "outputs": [],
   "source": [
    "with open(\"Structured_Data/Thapar_Societies.txt\",\"w\") as f:\n",
    "    for _,row in socities.iterrows():\n",
    "        f.write(f\"###{row['Society Name']}\\n\")\n",
    "        f.write(f\"-Objective:{row['Objective']}\\n\")\n",
    "        f.write(f\"-Faculty Advisors:{row['Faculty Advisor(s)']}\\n\")\n",
    "        f.write(f\"-Contact Email:{row['Contact Email']}\\n\")\n",
    "        f.write(\"\\n\\n\")\n",
    "        "
   ]
  },
  {
   "cell_type": "code",
   "execution_count": 56,
   "metadata": {},
   "outputs": [],
   "source": [
    "Events = pd.read_excel(\"Raw_Data/TIET_Cultural_Events.xlsx\")"
   ]
  },
  {
   "cell_type": "code",
   "execution_count": 57,
   "metadata": {},
   "outputs": [
    {
     "data": {
      "text/html": [
       "<div>\n",
       "<style scoped>\n",
       "    .dataframe tbody tr th:only-of-type {\n",
       "        vertical-align: middle;\n",
       "    }\n",
       "\n",
       "    .dataframe tbody tr th {\n",
       "        vertical-align: top;\n",
       "    }\n",
       "\n",
       "    .dataframe thead th {\n",
       "        text-align: right;\n",
       "    }\n",
       "</style>\n",
       "<table border=\"1\" class=\"dataframe\">\n",
       "  <thead>\n",
       "    <tr style=\"text-align: right;\">\n",
       "      <th></th>\n",
       "      <th>Cultural Event</th>\n",
       "      <th>Month</th>\n",
       "    </tr>\n",
       "  </thead>\n",
       "  <tbody>\n",
       "    <tr>\n",
       "      <th>0</th>\n",
       "      <td>URJA - The inter institute sports festival</td>\n",
       "      <td>February</td>\n",
       "    </tr>\n",
       "    <tr>\n",
       "      <th>1</th>\n",
       "      <td>Izhaar - The inter year cultural festival</td>\n",
       "      <td>February</td>\n",
       "    </tr>\n",
       "    <tr>\n",
       "      <th>2</th>\n",
       "      <td>Annual Athletic Meet</td>\n",
       "      <td>March</td>\n",
       "    </tr>\n",
       "    <tr>\n",
       "      <th>3</th>\n",
       "      <td>Frosh Week</td>\n",
       "      <td>August</td>\n",
       "    </tr>\n",
       "    <tr>\n",
       "      <th>4</th>\n",
       "      <td>Thapar Food Festival</td>\n",
       "      <td>September</td>\n",
       "    </tr>\n",
       "    <tr>\n",
       "      <th>5</th>\n",
       "      <td>MUDRA Eve</td>\n",
       "      <td>October</td>\n",
       "    </tr>\n",
       "    <tr>\n",
       "      <th>6</th>\n",
       "      <td>ELIXIR - The inter year Literary Festival</td>\n",
       "      <td>October</td>\n",
       "    </tr>\n",
       "    <tr>\n",
       "      <th>7</th>\n",
       "      <td>SATURNALIA - The inter institute techno-cultur...</td>\n",
       "      <td>November</td>\n",
       "    </tr>\n",
       "  </tbody>\n",
       "</table>\n",
       "</div>"
      ],
      "text/plain": [
       "                                      Cultural Event      Month\n",
       "0         URJA - The inter institute sports festival   February\n",
       "1          Izhaar - The inter year cultural festival   February\n",
       "2                               Annual Athletic Meet      March\n",
       "3                                         Frosh Week     August\n",
       "4                               Thapar Food Festival  September\n",
       "5                                          MUDRA Eve    October\n",
       "6          ELIXIR - The inter year Literary Festival    October\n",
       "7  SATURNALIA - The inter institute techno-cultur...   November"
      ]
     },
     "execution_count": 57,
     "metadata": {},
     "output_type": "execute_result"
    }
   ],
   "source": [
    "Events"
   ]
  },
  {
   "cell_type": "code",
   "execution_count": 60,
   "metadata": {},
   "outputs": [],
   "source": [
    "with open(\"Structured_Data/TIET_Events.txt\",\"w\") as f:\n",
    "    for _,row in Events.iterrows():\n",
    "        f.write(f\"### {row['Cultural Event']}\\n\")\n",
    "        f.write(f\"Month it took place - {row['Month']}\\n\")"
   ]
  },
  {
   "cell_type": "code",
   "execution_count": null,
   "metadata": {},
   "outputs": [],
   "source": []
  },
  {
   "cell_type": "code",
   "execution_count": null,
   "metadata": {},
   "outputs": [],
   "source": []
  },
  {
   "cell_type": "code",
   "execution_count": null,
   "metadata": {},
   "outputs": [],
   "source": []
  },
  {
   "cell_type": "code",
   "execution_count": null,
   "metadata": {},
   "outputs": [],
   "source": []
  },
  {
   "cell_type": "code",
   "execution_count": null,
   "metadata": {},
   "outputs": [],
   "source": []
  },
  {
   "cell_type": "code",
   "execution_count": null,
   "metadata": {},
   "outputs": [],
   "source": []
  },
  {
   "cell_type": "code",
   "execution_count": null,
   "metadata": {},
   "outputs": [],
   "source": []
  },
  {
   "cell_type": "code",
   "execution_count": null,
   "metadata": {},
   "outputs": [],
   "source": []
  }
 ],
 "metadata": {
  "kernelspec": {
   "display_name": "ThaparEnv",
   "language": "python",
   "name": "python3"
  },
  "language_info": {
   "codemirror_mode": {
    "name": "ipython",
    "version": 3
   },
   "file_extension": ".py",
   "mimetype": "text/x-python",
   "name": "python",
   "nbconvert_exporter": "python",
   "pygments_lexer": "ipython3",
   "version": "3.13.1"
  }
 },
 "nbformat": 4,
 "nbformat_minor": 2
}
